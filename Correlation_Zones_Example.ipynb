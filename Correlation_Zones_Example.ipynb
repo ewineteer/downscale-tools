{
 "cells": [
  {
   "cell_type": "code",
   "execution_count": 2,
   "id": "inside-sleep",
   "metadata": {},
   "outputs": [],
   "source": [
    "import xarray as xr\n",
    "import numpy as np\n",
    "from glob import glob\n",
    "import pickle\n",
    "\n",
    "import sys\n",
    "sys.path.append('/media/eric/T51/projects_daily/projects/wmms-cc')\n",
    "\n",
    "from downscale import *"
   ]
  },
  {
   "cell_type": "code",
   "execution_count": 2,
   "id": "finnish-basics",
   "metadata": {},
   "outputs": [],
   "source": [
    "# Opening observed data for testing\n",
    "obs = xr.open_dataset('/media/eric/T71/data/wmms-cc/meteo/nldas/lac_nldas.nc').load()"
   ]
  },
  {
   "cell_type": "code",
   "execution_count": 3,
   "id": "economic-gambling",
   "metadata": {},
   "outputs": [],
   "source": [
    "# Opening modeled future data for testing\n",
    "mod_fut_files = glob('/media/eric/T71/data/wmms-cc/meteo/BiasCorrected_CalAdapt/RCP45/*.nc')\n",
    "mod_fut = xr.open_dataset(mod_fut_files[5])"
   ]
  },
  {
   "cell_type": "code",
   "execution_count": 4,
   "id": "external-spiritual",
   "metadata": {},
   "outputs": [],
   "source": [
    "# Formatting the lat/lon coordinates for modeled future data, extracting lat/lon coordinates into np array\n",
    "latvals = mod_fut.lat[(mod_fut.lat <= obs.lat.max()) & (mod_fut.lat >= obs.lat.min())].values\n",
    "lonvals = mod_fut.lon[(mod_fut.lon <= obs.lon.max()) & (mod_fut.lon >= obs.lon.min())].values"
   ]
  },
  {
   "cell_type": "code",
   "execution_count": 5,
   "id": "initial-catalog",
   "metadata": {},
   "outputs": [],
   "source": [
    "# Observed and modeled future data are on different grids. This interpolates the observed data to the \n",
    "# same grid as the modeled future data.\n",
    "obsinterp = obs.interp(lat=latvals,lon=lonvals,kwargs={'bounds_error':False,'fill_value':np.nan})"
   ]
  },
  {
   "cell_type": "code",
   "execution_count": null,
   "id": "sensitive-soldier",
   "metadata": {},
   "outputs": [],
   "source": [
    "# Identifying which grid cells are correlated with eachother\n",
    "pcarr = identify_correlation_zones(obsinterp)"
   ]
  },
  {
   "cell_type": "code",
   "execution_count": 9,
   "id": "silent-canvas",
   "metadata": {},
   "outputs": [],
   "source": [
    "with open('/media/eric/T71/data/wmms-cc/meteo/Loca_Downscaled/ex_pcarrs.pk','wb') as outfile:\n",
    "    pickle.dump(pcarr,outfile)"
   ]
  },
  {
   "cell_type": "code",
   "execution_count": null,
   "id": "aboriginal-smell",
   "metadata": {},
   "outputs": [],
   "source": []
  },
  {
   "cell_type": "code",
   "execution_count": null,
   "id": "respective-discharge",
   "metadata": {},
   "outputs": [],
   "source": []
  },
  {
   "cell_type": "code",
   "execution_count": 3,
   "id": "functional-produce",
   "metadata": {},
   "outputs": [],
   "source": [
    "with open('/media/eric/T71/data/wmms-cc/meteo/Loca_Downscaled/ex_pcarrs.pk','rb') as infile:\n",
    "    pcarr = pickle.load(infile)"
   ]
  },
  {
   "cell_type": "code",
   "execution_count": 7,
   "id": "handed-worship",
   "metadata": {},
   "outputs": [],
   "source": [
    "mod_fut_vals,mod_fut_timestamps,mod_fut_seasons,mod_fut_doy,obs_vals,obs_daily_vals,obs_daily_timestamps,obs_daily_doy,obs_day = preprocess(obsinterp,mod_fut)"
   ]
  },
  {
   "cell_type": "code",
   "execution_count": null,
   "id": "broadband-apartment",
   "metadata": {},
   "outputs": [
    {
     "name": "stdout",
     "output_type": "stream",
     "text": [
      "Cells: 122/1428 \r"
     ]
    }
   ],
   "source": [
    "dsfut = loca(mod_fut_vals,mod_fut_timestamps,mod_fut_seasons,mod_fut_doy,obs_vals,obs_daily_vals,obs_daily_timestamps,obs_daily_doy,obs_day,pcarr)"
   ]
  },
  {
   "cell_type": "code",
   "execution_count": null,
   "id": "arranged-arcade",
   "metadata": {},
   "outputs": [],
   "source": []
  }
 ],
 "metadata": {
  "kernelspec": {
   "display_name": "Python [conda env:eric-wmms-cc3] *",
   "language": "python",
   "name": "conda-env-eric-wmms-cc3-py"
  },
  "language_info": {
   "codemirror_mode": {
    "name": "ipython",
    "version": 3
   },
   "file_extension": ".py",
   "mimetype": "text/x-python",
   "name": "python",
   "nbconvert_exporter": "python",
   "pygments_lexer": "ipython3",
   "version": "3.7.9"
  }
 },
 "nbformat": 4,
 "nbformat_minor": 5
}
